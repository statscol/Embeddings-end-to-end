{
  "nbformat": 4,
  "nbformat_minor": 0,
  "metadata": {
    "colab": {
      "name": " Bert Sentiment-Analysis.ipynb",
      "provenance": [],
      "collapsed_sections": [],
      "authorship_tag": "ABX9TyMAix25zQEhjuX1QYadupxj",
      "include_colab_link": true
    },
    "kernelspec": {
      "name": "python3",
      "display_name": "Python 3"
    },
    "language_info": {
      "name": "python"
    }
  },
  "cells": [
    {
      "cell_type": "markdown",
      "metadata": {
        "id": "view-in-github",
        "colab_type": "text"
      },
      "source": [
        "<a href=\"https://colab.research.google.com/github/statscol/Embeddings-end-to-end/blob/main/Bert_Sentiment_Analysis.ipynb\" target=\"_parent\"><img src=\"https://colab.research.google.com/assets/colab-badge.svg\" alt=\"Open In Colab\"/></a>"
      ]
    },
    {
      "cell_type": "code",
      "metadata": {
        "id": "HK62bNI_iwQh"
      },
      "source": [
        "import pandas as pd\n",
        "import numpy as np\n",
        "import tensorflow as tf \n",
        "import seaborn as sns\n",
        "import matplotlib.pyplot as plt\n"
      ],
      "execution_count": 2,
      "outputs": []
    },
    {
      "cell_type": "code",
      "metadata": {
        "colab": {
          "base_uri": "https://localhost:8080/"
        },
        "id": "-MajAcp1Mhu3",
        "outputId": "2656c3d4-3ec0-43ac-8c55-07c80e0b1d75"
      },
      "source": [
        "# A dependency of the preprocessing for BERT inputs\n",
        "!pip install -q -U tensorflow-text"
      ],
      "execution_count": 3,
      "outputs": [
        {
          "output_type": "stream",
          "name": "stdout",
          "text": [
            "\u001b[K     |████████████████████████████████| 4.4 MB 14.5 MB/s \n",
            "\u001b[?25h"
          ]
        }
      ]
    },
    {
      "cell_type": "code",
      "metadata": {
        "colab": {
          "base_uri": "https://localhost:8080/"
        },
        "id": "u1jDHexRMte9",
        "outputId": "8b596b9f-907c-4dc0-b91c-4b839b19a5a8"
      },
      "source": [
        "!pip install -q tf-models-official"
      ],
      "execution_count": 4,
      "outputs": [
        {
          "output_type": "stream",
          "name": "stdout",
          "text": [
            "\u001b[K     |████████████████████████████████| 1.8 MB 14.7 MB/s \n",
            "\u001b[K     |████████████████████████████████| 1.2 MB 70.2 MB/s \n",
            "\u001b[K     |████████████████████████████████| 352 kB 71.5 MB/s \n",
            "\u001b[K     |████████████████████████████████| 1.1 MB 50.2 MB/s \n",
            "\u001b[K     |████████████████████████████████| 99 kB 7.8 MB/s \n",
            "\u001b[K     |████████████████████████████████| 90 kB 9.7 MB/s \n",
            "\u001b[K     |████████████████████████████████| 37.1 MB 47 kB/s \n",
            "\u001b[K     |████████████████████████████████| 43 kB 1.9 MB/s \n",
            "\u001b[K     |████████████████████████████████| 211 kB 56.1 MB/s \n",
            "\u001b[K     |████████████████████████████████| 636 kB 55.7 MB/s \n",
            "\u001b[?25h  Building wheel for py-cpuinfo (setup.py) ... \u001b[?25l\u001b[?25hdone\n",
            "  Building wheel for seqeval (setup.py) ... \u001b[?25l\u001b[?25hdone\n"
          ]
        }
      ]
    },
    {
      "cell_type": "code",
      "metadata": {
        "id": "NC7EdixAM0uV"
      },
      "source": [
        "import os\n",
        "import shutil\n",
        "\n",
        "import tensorflow as tf\n",
        "import tensorflow_hub as hub\n",
        "import tensorflow_text as text\n",
        "from official.nlp import optimization  # to create AdamW optimizer\n",
        "\n",
        "import matplotlib.pyplot as plt\n",
        "\n",
        "tf.get_logger().setLevel('ERROR')"
      ],
      "execution_count": 5,
      "outputs": []
    },
    {
      "cell_type": "markdown",
      "metadata": {
        "id": "Yd4Sd4_Giw9i"
      },
      "source": [
        "### Sentiment Analysis\n",
        "We want to predict the polarity of a user review using its raw text. \n",
        "\n"
      ]
    },
    {
      "cell_type": "code",
      "metadata": {
        "colab": {
          "base_uri": "https://localhost:8080/",
          "height": 202
        },
        "id": "Sg-3Ww7vjHfi",
        "outputId": "d6f5d9a7-b54c-4e07-a1cb-cb3fd59a2c7f"
      },
      "source": [
        "reviews=pd.read_csv(\"challenge_data.csv\")\n",
        "reviews.head()"
      ],
      "execution_count": 6,
      "outputs": [
        {
          "output_type": "execute_result",
          "data": {
            "text/html": [
              "<div>\n",
              "<style scoped>\n",
              "    .dataframe tbody tr th:only-of-type {\n",
              "        vertical-align: middle;\n",
              "    }\n",
              "\n",
              "    .dataframe tbody tr th {\n",
              "        vertical-align: top;\n",
              "    }\n",
              "\n",
              "    .dataframe thead th {\n",
              "        text-align: right;\n",
              "    }\n",
              "</style>\n",
              "<table border=\"1\" class=\"dataframe\">\n",
              "  <thead>\n",
              "    <tr style=\"text-align: right;\">\n",
              "      <th></th>\n",
              "      <th>Unnamed: 0</th>\n",
              "      <th>text</th>\n",
              "      <th>tag</th>\n",
              "    </tr>\n",
              "  </thead>\n",
              "  <tbody>\n",
              "    <tr>\n",
              "      <th>0</th>\n",
              "      <td>0</td>\n",
              "      <td>in exotica everybody is watching , and what is...</td>\n",
              "      <td>pos</td>\n",
              "    </tr>\n",
              "    <tr>\n",
              "      <th>1</th>\n",
              "      <td>1</td>\n",
              "      <td>some of the gags are so carefully innocuous th...</td>\n",
              "      <td>neg</td>\n",
              "    </tr>\n",
              "    <tr>\n",
              "      <th>2</th>\n",
              "      <td>2</td>\n",
              "      <td>press junkets are a haven for control freaks .</td>\n",
              "      <td>neg</td>\n",
              "    </tr>\n",
              "    <tr>\n",
              "      <th>3</th>\n",
              "      <td>3</td>\n",
              "      <td>then i realized he was , and i was watching it .</td>\n",
              "      <td>neg</td>\n",
              "    </tr>\n",
              "    <tr>\n",
              "      <th>4</th>\n",
              "      <td>4</td>\n",
              "      <td>uh huh .</td>\n",
              "      <td>neg</td>\n",
              "    </tr>\n",
              "  </tbody>\n",
              "</table>\n",
              "</div>"
            ],
            "text/plain": [
              "   Unnamed: 0                                               text  tag\n",
              "0           0  in exotica everybody is watching , and what is...  pos\n",
              "1           1  some of the gags are so carefully innocuous th...  neg\n",
              "2           2     press junkets are a haven for control freaks .  neg\n",
              "3           3   then i realized he was , and i was watching it .  neg\n",
              "4           4                                           uh huh .  neg"
            ]
          },
          "metadata": {},
          "execution_count": 6
        }
      ]
    },
    {
      "cell_type": "markdown",
      "metadata": {
        "id": "5SUOcmkYpBdW"
      },
      "source": [
        "## Data Wrangling\n",
        "let's clean data and change pos and neg labels to integers"
      ]
    },
    {
      "cell_type": "code",
      "metadata": {
        "colab": {
          "base_uri": "https://localhost:8080/"
        },
        "id": "d6voQ9r8p9AY",
        "outputId": "f567875a-1b86-4674-abbc-26db7be151fa"
      },
      "source": [
        "##check whether or not we have null values\n",
        "\n",
        "np.sum(reviews.isnull(),axis=0)"
      ],
      "execution_count": 7,
      "outputs": [
        {
          "output_type": "execute_result",
          "data": {
            "text/plain": [
              "Unnamed: 0     0\n",
              "text          17\n",
              "tag            8\n",
              "dtype: int64"
            ]
          },
          "metadata": {},
          "execution_count": 7
        }
      ]
    },
    {
      "cell_type": "code",
      "metadata": {
        "id": "9w3SjDhlrLEP"
      },
      "source": [
        "## for now lets get rid of those reviews which do not have a tag available and fill null reviews with \"\" \n",
        "\n",
        "reviews=reviews[~reviews.tag.isna()]\n",
        "reviews.text.fillna(\"\",inplace=True)"
      ],
      "execution_count": 8,
      "outputs": []
    },
    {
      "cell_type": "code",
      "metadata": {
        "colab": {
          "base_uri": "https://localhost:8080/"
        },
        "id": "uibdSjTDrrOc",
        "outputId": "afe5918c-9340-44dd-bd27-3b846d57b592"
      },
      "source": [
        "#check out dataset\n",
        "np.sum(reviews.isnull(),axis=0)"
      ],
      "execution_count": 9,
      "outputs": [
        {
          "output_type": "execute_result",
          "data": {
            "text/plain": [
              "Unnamed: 0    0\n",
              "text          0\n",
              "tag           0\n",
              "dtype: int64"
            ]
          },
          "metadata": {},
          "execution_count": 9
        }
      ]
    },
    {
      "cell_type": "code",
      "metadata": {
        "id": "oO9nXF6FpAQY"
      },
      "source": [
        "reviews['label']=reviews['tag'].apply(lambda k: 0 if k=='neg' else 1)"
      ],
      "execution_count": 10,
      "outputs": []
    },
    {
      "cell_type": "markdown",
      "metadata": {
        "id": "ToGt_0Xio7B2"
      },
      "source": [
        "## EDA\n",
        "\n",
        "Positive reviews are far less than negative ones, this will be a problem when training a model given that performance metric are sentitive to class imbalance"
      ]
    },
    {
      "cell_type": "code",
      "metadata": {
        "colab": {
          "base_uri": "https://localhost:8080/",
          "height": 442
        },
        "id": "ogsp9yPDkWpW",
        "outputId": "bd4547b2-3e9e-4ea9-cd5e-1411048be08e"
      },
      "source": [
        "f,ax=plt.subplots(figsize=(6,6))\n",
        "sns.countplot(\"tag\",data=reviews,ax=ax);"
      ],
      "execution_count": null,
      "outputs": [
        {
          "output_type": "stream",
          "name": "stderr",
          "text": [
            "/usr/local/lib/python3.7/dist-packages/seaborn/_decorators.py:43: FutureWarning: Pass the following variable as a keyword arg: x. From version 0.12, the only valid positional argument will be `data`, and passing other arguments without an explicit keyword will result in an error or misinterpretation.\n",
            "  FutureWarning\n"
          ]
        },
        {
          "output_type": "display_data",
          "data": {
            "image/png": "[encoded data removed]",
            "text/plain": [
              "<Figure size 432x432 with 1 Axes>"
            ]
          },
          "metadata": {
            "needs_background": "light"
          }
        }
      ]
    },
    {
      "cell_type": "code",
      "metadata": {
        "colab": {
          "base_uri": "https://localhost:8080/"
        },
        "id": "zvknCZ9ED700",
        "outputId": "c347c953-8778-4b6d-c222-ab8be8f03421"
      },
      "source": [
        "### use external data \n",
        "\n",
        "##what if we include external reviews to increase minority class?\n",
        "##lets use Imdb data and keras data api to get data\n",
        "URL = \"https://ai.stanford.edu/~amaas/data/sentiment/aclImdb_v1.tar.gz\"\n",
        "\n",
        "dataset = tf.keras.utils.get_file(fname=\"aclImdb_v1.tar.gz\", \n",
        "                                  origin=URL,\n",
        "                                  untar=True,\n",
        "                                  cache_dir='.',\n",
        "                                  cache_subdir='')\n",
        "\n",
        "train = tf.keras.preprocessing.text_dataset_from_directory(\n",
        "    'aclImdb/train', batch_size=50000, seed=123)\n",
        "\n",
        "\n",
        "for i in train.take(1):\n",
        "  train_feat = i[0].numpy()\n",
        "  train_lab = i[1].numpy()\n",
        "\n",
        "train = pd.DataFrame([train_feat, train_lab]).T\n",
        "train.columns = ['text', 'label']\n",
        "train['text'] = train['text'].str.decode(\"utf-8\")\n",
        "##we're only interested in positive comments\n",
        "positive_external=train[train['label']==1]\n",
        "\n",
        "###include external data\n",
        "reviews=pd.concat([reviews[['text','label']],positive_external])\n"
      ],
      "execution_count": 11,
      "outputs": [
        {
          "output_type": "stream",
          "name": "stdout",
          "text": [
            "Downloading data from https://ai.stanford.edu/~amaas/data/sentiment/aclImdb_v1.tar.gz\n",
            "84131840/84125825 [==============================] - 6s 0us/step\n",
            "84140032/84125825 [==============================] - 6s 0us/step\n",
            "Found 75000 files belonging to 3 classes.\n"
          ]
        }
      ]
    },
    {
      "cell_type": "code",
      "metadata": {
        "id": "iXaFTcPhD_go"
      },
      "source": [
        "##remove special characters and use lowerCase only\n",
        "\n",
        "import re\n",
        "\n",
        "def remove_special(str1):\n",
        "  str_aux= str1.replace('<br>', \"\")\n",
        "  str_aux= str_aux.replace('</br>', \"\")\n",
        "  str_aux=re.sub(r\"[^a-zA-Z0-9]\",\" \",str_aux).lower()\n",
        "  str_aux=re.sub('\\s+', ' ',str_aux).strip()\n",
        "  return str_aux\n",
        "\n",
        "reviews['text']=reviews['text'].apply(lambda d: remove_special(d))\n"
      ],
      "execution_count": 12,
      "outputs": []
    },
    {
      "cell_type": "code",
      "metadata": {
        "colab": {
          "base_uri": "https://localhost:8080/"
        },
        "id": "J5yWt_agEjoV",
        "outputId": "1bb29390-f3d5-4a2b-c20e-dce4d3f48942"
      },
      "source": [
        "print( \"Majority to minority class relation : \" , np.round(sum(reviews.label==0)/sum(reviews.label==1),1))"
      ],
      "execution_count": null,
      "outputs": [
        {
          "output_type": "stream",
          "name": "stdout",
          "text": [
            "Majority to minority class relation :  2.1\n"
          ]
        }
      ]
    },
    {
      "cell_type": "markdown",
      "metadata": {
        "id": "8ba89CUPi8f_"
      },
      "source": [
        "\n",
        "# Approach No.2\n",
        "\n",
        "Using BERT Pre trained embeddings to build a classifier"
      ]
    },
    {
      "cell_type": "code",
      "metadata": {
        "id": "KJ_HUvZBNQkh"
      },
      "source": [
        "model_url='https://tfhub.dev/tensorflow/small_bert/bert_en_uncased_L-4_H-512_A-8/1'\n",
        "preprocess_ulr='https://tfhub.dev/tensorflow/bert_en_uncased_preprocess/3'\n",
        "bert_preprocess_model = hub.KerasLayer(preprocess_ulr)\n",
        "bert_model = hub.KerasLayer(model_url)"
      ],
      "execution_count": 13,
      "outputs": []
    },
    {
      "cell_type": "code",
      "metadata": {
        "colab": {
          "base_uri": "https://localhost:8080/",
          "height": 466
        },
        "id": "4ZAp7keIPJdm",
        "outputId": "161806ad-339f-4089-9188-27a8887fabb5"
      },
      "source": [
        "##now lets use the preprocessing and bert  together in a model\n",
        "def build_classifier_model(preprocess_ulr,model_url):\n",
        "  text_input = tf.keras.layers.Input(shape=(), dtype=tf.string, name='text')\n",
        "  preprocessing_layer = hub.KerasLayer(preprocess_ulr, name='preprocessing')\n",
        "  encoder_inputs = preprocessing_layer(text_input)\n",
        "  encoder = hub.KerasLayer(model_url, trainable=True, name='BERT_encoder')\n",
        "  outputs = encoder(encoder_inputs)\n",
        "  net = outputs['pooled_output']\n",
        "  net = tf.keras.layers.Dropout(0.1)(net)\n",
        "  net = tf.keras.layers.Dense(1, activation='sigmoid', name='classifier')(net)\n",
        "  return tf.keras.Model(text_input, net)\n",
        "\n",
        "classifier_model = build_classifier_model(preprocess_ulr,model_url)\n",
        "tf.keras.utils.plot_model(classifier_model) ##graph "
      ],
      "execution_count": 16,
      "outputs": [
        {
          "output_type": "execute_result",
          "data": {
            "image/png": "[encoded data removed]",
            "text/plain": [
              "<IPython.core.display.Image object>"
            ]
          },
          "metadata": {},
          "execution_count": 16
        }
      ]
    },
    {
      "cell_type": "markdown",
      "metadata": {
        "id": "vNmJc_JuGxPj"
      },
      "source": [
        "### Prepare Data for BERT"
      ]
    },
    {
      "cell_type": "code",
      "metadata": {
        "colab": {
          "base_uri": "https://localhost:8080/"
        },
        "id": "XL6a_XOeGwOK",
        "outputId": "73f6f183-bb6d-4174-bb9f-65d23baa784d"
      },
      "source": [
        "## divide data on train-test 80%-20%\n",
        "\n",
        "from sklearn.model_selection import train_test_split\n",
        "\n",
        "labels=reviews.label.values.astype('int64')\n",
        "train,test = train_test_split(reviews, test_size=0.2, random_state=123)\n",
        "print(\"Reviews for training: {} \\nReviews for testing: {}\".format(train.shape[0],test.shape[0]))"
      ],
      "execution_count": 17,
      "outputs": [
        {
          "output_type": "stream",
          "name": "stdout",
          "text": [
            "Reviews for training: 30186 \n",
            "Reviews for testing: 7547\n"
          ]
        }
      ]
    },
    {
      "cell_type": "code",
      "metadata": {
        "id": "Qo31iu0yG0mB"
      },
      "source": [
        "def convert_to_tf_data(df):\n",
        "\n",
        "  dataset = (\n",
        "      tf.data.Dataset.from_tensor_slices(\n",
        "          (\n",
        "              tf.cast(df['text'].values, tf.string),\n",
        "              tf.cast(df['label'].values.astype('int64'), tf.int64)\n",
        "          )\n",
        "      )\n",
        "  )\n",
        "  return dataset\n",
        "batch_size = 32\n",
        "train_ds=convert_to_tf_data(train)\n",
        "train_ds=train_ds.cache().prefetch(buffer_size=tf.data.AUTOTUNE).batch(batch_size)\n",
        "test_ds=convert_to_tf_data(test)\n",
        "test_ds=test_ds.cache().prefetch(buffer_size=tf.data.AUTOTUNE).batch(batch_size)\n"
      ],
      "execution_count": 18,
      "outputs": []
    },
    {
      "cell_type": "markdown",
      "metadata": {
        "id": "tZ9A_rc0P9Qf"
      },
      "source": [
        "## Train Model"
      ]
    },
    {
      "cell_type": "markdown",
      "metadata": {
        "id": "QlA19iNX3cw3"
      },
      "source": [
        "## Define & train the model\n",
        "\n",
        "We'll be using Keras functional API to train a classifier. Callbacks to avoid overfitting are also provided in the process"
      ]
    },
    {
      "cell_type": "code",
      "metadata": {
        "id": "KXHflTzyP8vy"
      },
      "source": [
        "loss = tf.keras.losses.BinaryCrossentropy()\n",
        "metrics = tf.metrics.BinaryAccuracy()\n",
        "\n",
        "epochs = 2\n",
        "steps_per_epoch = tf.data.experimental.cardinality(train_ds).numpy()\n",
        "num_train_steps = steps_per_epoch * epochs\n",
        "num_warmup_steps = int(0.1*num_train_steps)\n",
        "\n",
        "init_lr = 1e-4\n",
        "optimizer = optimization.create_optimizer(init_lr=init_lr,\n",
        "                                          num_train_steps=num_train_steps,\n",
        "                                          num_warmup_steps=num_warmup_steps,\n",
        "                                          optimizer_type='adamw')"
      ],
      "execution_count": 19,
      "outputs": []
    },
    {
      "cell_type": "code",
      "metadata": {
        "id": "Wh2PgOvkSemt"
      },
      "source": [
        "classifier_model.compile(optimizer=optimizer,\n",
        "                         loss=loss,\n",
        "                         metrics=metrics)"
      ],
      "execution_count": 20,
      "outputs": []
    },
    {
      "cell_type": "code",
      "metadata": {
        "colab": {
          "base_uri": "https://localhost:8080/"
        },
        "id": "lovvOEFoPlZ9",
        "outputId": "d0a47ddd-f51d-4677-f826-8787b2cc64a4"
      },
      "source": [
        "##define class weights for imbalanced data\n",
        "n_classes=np.unique(train.label).shape[0]\n",
        "neg_weight = (1 / sum(train.label==0)) * (train.shape[0] / n_classes)  ##according to TF, scale by number of classes\n",
        "pos_weight = (1 / sum(train.label==1)) * (train.shape[0] / n_classes)\n",
        "\n",
        "class_weight = {0: neg_weight, 1: pos_weight}\n",
        "print(class_weight)"
      ],
      "execution_count": 21,
      "outputs": [
        {
          "output_type": "stream",
          "name": "stdout",
          "text": [
            "{0: 0.7423638778220452, 1: 1.5315068493150685}\n"
          ]
        }
      ]
    },
    {
      "cell_type": "code",
      "metadata": {
        "colab": {
          "base_uri": "https://localhost:8080/"
        },
        "id": "Qn1lPWjz_JFL",
        "outputId": "d5b14dec-ee9c-4274-cf9b-e2fea9486f11"
      },
      "source": [
        "tf.config.run_functions_eagerly(True) ##enable tf 2.x \n",
        "\n",
        "print(f'Training model with {model_url}')\n",
        "history = classifier_model.fit(x=train_ds,\n",
        "                               validation_data=test_ds,\n",
        "                               epochs=epochs,class_weight=class_weight)"
      ],
      "execution_count": 22,
      "outputs": [
        {
          "output_type": "stream",
          "name": "stdout",
          "text": [
            "Training model with https://tfhub.dev/tensorflow/small_bert/bert_en_uncased_L-4_H-512_A-8/1\n",
            "Epoch 1/2\n"
          ]
        },
        {
          "output_type": "stream",
          "name": "stderr",
          "text": [
            "/usr/local/lib/python3.7/dist-packages/tensorflow/python/data/ops/dataset_ops.py:4212: UserWarning: Even though the `tf.config.experimental_run_functions_eagerly` option is set, this option does not apply to tf.data functions. To force eager execution of tf.data functions, please use `tf.data.experimental.enable_debug_mode()`.\n",
            "  \"Even though the `tf.config.experimental_run_functions_eagerly` \"\n"
          ]
        },
        {
          "output_type": "stream",
          "name": "stdout",
          "text": [
            "944/944 [==============================] - 7008s 7s/step - loss: 0.3893 - binary_accuracy: 0.8654 - val_loss: 0.3387 - val_binary_accuracy: 0.8801\n",
            "Epoch 2/2\n",
            "944/944 [==============================] - 6934s 7s/step - loss: 0.2912 - binary_accuracy: 0.9005 - val_loss: 0.3194 - val_binary_accuracy: 0.8744\n"
          ]
        }
      ]
    },
    {
      "cell_type": "code",
      "metadata": {
        "id": "c0odCAio6H16"
      },
      "source": [
        "##save model\n",
        "from tensorflow.keras.models import load_model,save_model\n",
        "\n",
        "classifier_model.save(\"/content/bert-sentiment.h5\")"
      ],
      "execution_count": 24,
      "outputs": []
    },
    {
      "cell_type": "markdown",
      "metadata": {
        "id": "8xltilF8D-1v"
      },
      "source": [
        "## Model Performance during training and final metrics on training and test data\n",
        "\n"
      ]
    },
    {
      "cell_type": "code",
      "metadata": {
        "colab": {
          "base_uri": "https://localhost:8080/",
          "height": 457
        },
        "id": "DcBinyDhCN7b",
        "outputId": "a62360e8-cc59-4abf-9adf-0621fc732d17"
      },
      "source": [
        "\n",
        "\n",
        "##Lets see the training process metrics\n",
        "def plot_results(history):\n",
        "  f,ax=plt.subplots(figsize=(5,5),dpi=100)\n",
        "  epochs=history.epoch\n",
        "  metric_tr=history.history.get('loss')\n",
        "  metric_val=history.history.get('val_loss')\n",
        "  plt.semilogy(epochs, metric_tr, color='orange', label='Training Loss',linestyle='--')\n",
        "  plt.semilogy(epochs, metric_val, color='black', label='Validation Loss',linestyle='--')\n",
        "  ax.set_xlabel(\"Epoch\")\n",
        "  ax.set_ylabel(\"Loss\")\n",
        "  plt.legend(loc=\"upper left\")\n",
        "plot_results(history=history)  "
      ],
      "execution_count": 25,
      "outputs": [
        {
          "output_type": "display_data",
          "data": {
            "image/png": "[encoded data removed]",
            "text/plain": [
              "<Figure size 500x500 with 1 Axes>"
            ]
          },
          "metadata": {
            "needs_background": "light"
          }
        }
      ]
    },
    {
      "cell_type": "code",
      "metadata": {
        "id": "8pIZ0cQ1D8c9"
      },
      "source": [
        "##Function to compute metrics \n",
        "from sklearn.metrics import cohen_kappa_score,accuracy_score,f1_score,precision_score,recall_score,make_scorer\n",
        "def metrics(real,pred):\n",
        "  kappa=cohen_kappa_score(real,pred)\n",
        "  acc=accuracy_score(real,pred)\n",
        "  f1=f1_score(real,pred)\n",
        "  prec=precision_score(real,pred)\n",
        "  recall=recall_score(real,pred)\n",
        "\n",
        "  print (f\" Accuracy:{acc:.4f} \\n Precision: {prec:.4f} \\n Recall: {recall:.4f} \\n Kappa: {kappa:.4f} \\n F1-Score: {f1:.4f} \")\n"
      ],
      "execution_count": 26,
      "outputs": []
    },
    {
      "cell_type": "code",
      "metadata": {
        "colab": {
          "base_uri": "https://localhost:8080/"
        },
        "id": "_LgeuzO-x-Pk",
        "outputId": "73a6c6cf-514a-4ea8-a285-74805bc6918f"
      },
      "source": [
        "classifier_model.predict([\"i like this movie\",\" ever seen a better product than this\"])"
      ],
      "execution_count": 42,
      "outputs": [
        {
          "output_type": "execute_result",
          "data": {
            "text/plain": [
              "array([[0.14823368],\n",
              "       [0.08955529]], dtype=float32)"
            ]
          },
          "metadata": {},
          "execution_count": 42
        }
      ]
    },
    {
      "cell_type": "code",
      "metadata": {
        "colab": {
          "base_uri": "https://localhost:8080/"
        },
        "id": "ERQZABBg5Wcz",
        "outputId": "7656413a-abea-4ec2-8621-66cad453622f"
      },
      "source": [
        "##evaluate on test data\n",
        "classifier_model.evaluate(test_ds)"
      ],
      "execution_count": 45,
      "outputs": [
        {
          "output_type": "stream",
          "name": "stdout",
          "text": [
            "236/236 [==============================] - 384s 2s/step - loss: 0.3194 - binary_accuracy: 0.8744\n"
          ]
        },
        {
          "output_type": "execute_result",
          "data": {
            "text/plain": [
              "[0.31936442852020264, 0.8743871450424194]"
            ]
          },
          "metadata": {},
          "execution_count": 45
        }
      ]
    },
    {
      "cell_type": "code",
      "metadata": {
        "colab": {
          "base_uri": "https://localhost:8080/"
        },
        "id": "qk_iRA917l8s",
        "outputId": "b974fb6f-b86a-4978-eb73-752f45c18847"
      },
      "source": [
        "##metrics on test set\n",
        "print(\"=\"*5+\"TESTING\"+\"=\"*5)\n",
        "y_test_pred=classifier_model.predict(test.text.values,workers=-1,verbose=1,use_multiprocessing=True)\n",
        "metrics(test.label.values.astype('int64'),np.round(y_test_pred))"
      ],
      "execution_count": 53,
      "outputs": [
        {
          "output_type": "stream",
          "name": "stdout",
          "text": [
            "=====TESTING=====\n",
            " Accuracy:0.8744 \n",
            " Precision: 0.8403 \n",
            " Recall: 0.7557 \n",
            " Kappa: 0.7054 \n",
            " F1-Score: 0.7958 \n"
          ]
        }
      ]
    },
    {
      "cell_type": "markdown",
      "metadata": {
        "id": "Aa1GKUDVooeK"
      },
      "source": [
        "## Predict on new data\n"
      ]
    },
    {
      "cell_type": "code",
      "metadata": {
        "colab": {
          "base_uri": "https://localhost:8080/",
          "height": 90
        },
        "id": "-IuXRAcH-OGq",
        "outputId": "8750be8c-3535-4728-a624-ed0370681303"
      },
      "source": [
        "test[test['label']==1].text.values[90]"
      ],
      "execution_count": 65,
      "outputs": [
        {
          "output_type": "execute_result",
          "data": {
            "application/vnd.google.colaboratory.intrinsic+json": {
              "type": "string"
            },
            "text/plain": [
              "'fragglerock is excellent in the way that schindler s list was excellent a great watch for children and adults of all genders big noses can be seen as hinting towards phallic symbols in the same way that h r puff n stuff had hinted towards marijuana smoking your kids will love this movie i enjoyed it very much as a child my father showed me this movie as a child he enjoyed it as well and pointed out that the exaggerated noses were phallic symbols although at the time i had no clue about what those were the movie is comedy and adventure the storyline is wacky and cheerful i and you shall enjoy this together'"
            ]
          },
          "metadata": {},
          "execution_count": 65
        }
      ]
    },
    {
      "cell_type": "code",
      "metadata": {
        "colab": {
          "base_uri": "https://localhost:8080/"
        },
        "id": "ztiOCQXs8a7E",
        "outputId": "cb761909-e415-430d-f641-2a3139008a8e"
      },
      "source": [
        "##apply on new data\n",
        "text_samples=[\"washington's subdued approach is part of the reason for this ; i never felt a sense of urgency .\",\n",
        "              \"it's certainly not the cast , which includes enough hot , young talent for several movies .\",\n",
        "              \"unfortunately , sandler is going to make a lot of people shrug this one off as a no-brainer , but it's got so much surprise substance packed inside that i'm encouraging everyone to go see it .\"]\n",
        "def get_polarity(str1):\n",
        "  return(classifier_model.predict(str1))\n",
        "\n",
        "\n",
        "get_polarity(text_samples)"
      ],
      "execution_count": 68,
      "outputs": [
        {
          "output_type": "execute_result",
          "data": {
            "text/plain": [
              "array([[0.8254978 ],\n",
              "       [0.08483678],\n",
              "       [0.08341965]], dtype=float32)"
            ]
          },
          "metadata": {},
          "execution_count": 68
        }
      ]
    }
  ]
}