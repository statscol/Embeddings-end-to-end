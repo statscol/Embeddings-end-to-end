{
  "nbformat": 4,
  "nbformat_minor": 0,
  "metadata": {
    "colab": {
      "name": "data_challenge.ipynb",
      "provenance": [],
      "collapsed_sections": [],
      "authorship_tag": "ABX9TyNLE+DZvnjP+uWSsT0QcX+j",
      "include_colab_link": true
    },
    "kernelspec": {
      "name": "python3",
      "display_name": "Python 3"
    },
    "language_info": {
      "name": "python"
    }
  },
  "cells": [
    {
      "cell_type": "markdown",
      "metadata": {
        "id": "view-in-github",
        "colab_type": "text"
      },
      "source": [
        "<a href=\"https://colab.research.google.com/github/statscol/Embeddings-end-to-end/blob/main/Embeddings-classification.ipynb\" target=\"_parent\"><img src=\"https://colab.research.google.com/assets/colab-badge.svg\" alt=\"Open In Colab\"/></a>"
      ]
    },
    {
      "cell_type": "code",
      "metadata": {
        "id": "HK62bNI_iwQh"
      },
      "source": [
        "import pandas as pd\n",
        "import numpy as np\n",
        "import tensorflow as tf \n",
        "import seaborn as sns\n",
        "import matplotlib.pyplot as plt\n"
      ],
      "execution_count": null,
      "outputs": []
    },
    {
      "cell_type": "markdown",
      "metadata": {
        "id": "Yd4Sd4_Giw9i"
      },
      "source": [
        "### Sentiment Analysis\n",
        "We want to predict the polarity of a user review using its raw text. \n",
        "\n"
      ]
    },
    {
      "cell_type": "code",
      "metadata": {
        "colab": {
          "base_uri": "https://localhost:8080/",
          "height": 203
        },
        "id": "Sg-3Ww7vjHfi",
        "outputId": "62bf3603-9c21-44bd-9e3c-05fa1423db0a"
      },
      "source": [
        "reviews=pd.read_csv(\"challenge_data.csv\")\n",
        "reviews.head()"
      ],
      "execution_count": null,
      "outputs": [
        {
          "output_type": "execute_result",
          "data": {
            "text/html": [
              "<div>\n",
              "<style scoped>\n",
              "    .dataframe tbody tr th:only-of-type {\n",
              "        vertical-align: middle;\n",
              "    }\n",
              "\n",
              "    .dataframe tbody tr th {\n",
              "        vertical-align: top;\n",
              "    }\n",
              "\n",
              "    .dataframe thead th {\n",
              "        text-align: right;\n",
              "    }\n",
              "</style>\n",
              "<table border=\"1\" class=\"dataframe\">\n",
              "  <thead>\n",
              "    <tr style=\"text-align: right;\">\n",
              "      <th></th>\n",
              "      <th>Unnamed: 0</th>\n",
              "      <th>text</th>\n",
              "      <th>tag</th>\n",
              "    </tr>\n",
              "  </thead>\n",
              "  <tbody>\n",
              "    <tr>\n",
              "      <th>0</th>\n",
              "      <td>0</td>\n",
              "      <td>in exotica everybody is watching , and what is...</td>\n",
              "      <td>pos</td>\n",
              "    </tr>\n",
              "    <tr>\n",
              "      <th>1</th>\n",
              "      <td>1</td>\n",
              "      <td>some of the gags are so carefully innocuous th...</td>\n",
              "      <td>neg</td>\n",
              "    </tr>\n",
              "    <tr>\n",
              "      <th>2</th>\n",
              "      <td>2</td>\n",
              "      <td>press junkets are a haven for control freaks .</td>\n",
              "      <td>neg</td>\n",
              "    </tr>\n",
              "    <tr>\n",
              "      <th>3</th>\n",
              "      <td>3</td>\n",
              "      <td>then i realized he was , and i was watching it .</td>\n",
              "      <td>neg</td>\n",
              "    </tr>\n",
              "    <tr>\n",
              "      <th>4</th>\n",
              "      <td>4</td>\n",
              "      <td>uh huh .</td>\n",
              "      <td>neg</td>\n",
              "    </tr>\n",
              "  </tbody>\n",
              "</table>\n",
              "</div>"
            ],
            "text/plain": [
              "   Unnamed: 0                                               text  tag\n",
              "0           0  in exotica everybody is watching , and what is...  pos\n",
              "1           1  some of the gags are so carefully innocuous th...  neg\n",
              "2           2     press junkets are a haven for control freaks .  neg\n",
              "3           3   then i realized he was , and i was watching it .  neg\n",
              "4           4                                           uh huh .  neg"
            ]
          },
          "metadata": {},
          "execution_count": 6
        }
      ]
    },
    {
      "cell_type": "markdown",
      "metadata": {
        "id": "5SUOcmkYpBdW"
      },
      "source": [
        "## Data Wrangling\n",
        "let's clean data and change pos and neg labels to integers"
      ]
    },
    {
      "cell_type": "code",
      "metadata": {
        "colab": {
          "base_uri": "https://localhost:8080/"
        },
        "id": "d6voQ9r8p9AY",
        "outputId": "ee5f836f-8190-433f-c984-6a4e0a4feab5"
      },
      "source": [
        "##check whether or not we have null values\n",
        "\n",
        "np.sum(reviews.isnull(),axis=0)"
      ],
      "execution_count": null,
      "outputs": [
        {
          "output_type": "execute_result",
          "data": {
            "text/plain": [
              "Unnamed: 0     0\n",
              "text          17\n",
              "tag            8\n",
              "dtype: int64"
            ]
          },
          "metadata": {},
          "execution_count": 7
        }
      ]
    },
    {
      "cell_type": "code",
      "metadata": {
        "id": "9w3SjDhlrLEP",
        "colab": {
          "base_uri": "https://localhost:8080/"
        },
        "outputId": "e797f22a-a96c-4423-d594-0b8a6aed877c"
      },
      "source": [
        "## for now lets get rid of those reviews which do not have a tag available and fill null reviews with \"\" \n",
        "\n",
        "reviews=reviews[~reviews.tag.isna()]\n",
        "reviews.text.fillna(\"\",inplace=True)"
      ],
      "execution_count": null,
      "outputs": [
        {
          "output_type": "stream",
          "name": "stderr",
          "text": [
            "/usr/local/lib/python3.7/dist-packages/pandas/core/series.py:4536: SettingWithCopyWarning: \n",
            "A value is trying to be set on a copy of a slice from a DataFrame\n",
            "\n",
            "See the caveats in the documentation: https://pandas.pydata.org/pandas-docs/stable/user_guide/indexing.html#returning-a-view-versus-a-copy\n",
            "  downcast=downcast,\n"
          ]
        }
      ]
    },
    {
      "cell_type": "code",
      "metadata": {
        "colab": {
          "base_uri": "https://localhost:8080/"
        },
        "id": "uibdSjTDrrOc",
        "outputId": "514cc725-16b8-4dca-8042-47dfa08aaa92"
      },
      "source": [
        "#check out dataset\n",
        "np.sum(reviews.isnull(),axis=0)"
      ],
      "execution_count": null,
      "outputs": [
        {
          "output_type": "execute_result",
          "data": {
            "text/plain": [
              "Unnamed: 0    0\n",
              "text          0\n",
              "tag           0\n",
              "dtype: int64"
            ]
          },
          "metadata": {},
          "execution_count": 10
        }
      ]
    },
    {
      "cell_type": "code",
      "metadata": {
        "id": "oO9nXF6FpAQY",
        "colab": {
          "base_uri": "https://localhost:8080/"
        },
        "outputId": "e03f9356-6a61-4ce2-9e91-7e3e205f3d1f"
      },
      "source": [
        "reviews['label']=reviews['tag'].apply(lambda k: 0 if k=='neg' else 1)"
      ],
      "execution_count": null,
      "outputs": [
        {
          "output_type": "stream",
          "name": "stderr",
          "text": [
            "/usr/local/lib/python3.7/dist-packages/ipykernel_launcher.py:1: SettingWithCopyWarning: \n",
            "A value is trying to be set on a copy of a slice from a DataFrame.\n",
            "Try using .loc[row_indexer,col_indexer] = value instead\n",
            "\n",
            "See the caveats in the documentation: https://pandas.pydata.org/pandas-docs/stable/user_guide/indexing.html#returning-a-view-versus-a-copy\n",
            "  \"\"\"Entry point for launching an IPython kernel.\n"
          ]
        }
      ]
    },
    {
      "cell_type": "markdown",
      "metadata": {
        "id": "ToGt_0Xio7B2"
      },
      "source": [
        "## EDA\n",
        "\n",
        "Positive reviews are far less than negative ones, this will be a problem when training a model given that performance metric are sentitive to class imbalance"
      ]
    },
    {
      "cell_type": "code",
      "metadata": {
        "colab": {
          "base_uri": "https://localhost:8080/",
          "height": 442
        },
        "id": "ogsp9yPDkWpW",
        "outputId": "bd4547b2-3e9e-4ea9-cd5e-1411048be08e"
      },
      "source": [
        "f,ax=plt.subplots(figsize=(6,6))\n",
        "sns.countplot(\"tag\",data=reviews,ax=ax);"
      ],
      "execution_count": null,
      "outputs": [
        {
          "output_type": "stream",
          "name": "stderr",
          "text": [
            "/usr/local/lib/python3.7/dist-packages/seaborn/_decorators.py:43: FutureWarning: Pass the following variable as a keyword arg: x. From version 0.12, the only valid positional argument will be `data`, and passing other arguments without an explicit keyword will result in an error or misinterpretation.\n",
            "  FutureWarning\n"
          ]
        },
        {
          "output_type": "display_data",
          "data": {
            "image/png": "[encoded data removed]",
            "text/plain": [
              "<Figure size 432x432 with 1 Axes>"
            ]
          },
          "metadata": {
            "needs_background": "light"
          }
        }
      ]
    },
    {
      "cell_type": "code",
      "metadata": {
        "colab": {
          "base_uri": "https://localhost:8080/"
        },
        "id": "zvknCZ9ED700",
        "outputId": "b0c7d3fb-d25d-4bfb-f5a1-6360a8efd7bb"
      },
      "source": [
        "### use external data \n",
        "\n",
        "##what if we include external reviews to increase minority class?\n",
        "##lets use Imdb data and keras data api to get data\n",
        "URL = \"https://ai.stanford.edu/~amaas/data/sentiment/aclImdb_v1.tar.gz\"\n",
        "\n",
        "dataset = tf.keras.utils.get_file(fname=\"aclImdb_v1.tar.gz\", \n",
        "                                  origin=URL,\n",
        "                                  untar=True,\n",
        "                                  cache_dir='.',\n",
        "                                  cache_subdir='')\n",
        "\n",
        "train = tf.keras.preprocessing.text_dataset_from_directory(\n",
        "    'aclImdb/train', batch_size=50000, seed=123)\n",
        "\n",
        "\n",
        "for i in train.take(1):\n",
        "  train_feat = i[0].numpy()\n",
        "  train_lab = i[1].numpy()\n",
        "\n",
        "train = pd.DataFrame([train_feat, train_lab]).T\n",
        "train.columns = ['text', 'label']\n",
        "train['text'] = train['text'].str.decode(\"utf-8\")\n",
        "##we're only interested in positive comments\n",
        "positive_external=train[train['label']==1]\n",
        "\n",
        "###include external data\n",
        "reviews=pd.concat([reviews[['text','label']],positive_external])\n"
      ],
      "execution_count": null,
      "outputs": [
        {
          "output_type": "stream",
          "name": "stdout",
          "text": [
            "Found 75000 files belonging to 3 classes.\n"
          ]
        }
      ]
    },
    {
      "cell_type": "code",
      "metadata": {
        "id": "iXaFTcPhD_go"
      },
      "source": [
        "##remove special characters and use lowerCase only\n",
        "\n",
        "import re\n",
        "\n",
        "def remove_special(str1):\n",
        "  str_aux= str1.replace('<br>', \"\")\n",
        "  str_aux= str_aux.replace('</br>', \"\")\n",
        "  str_aux=re.sub(r\"[^a-zA-Z0-9]\",\" \",str_aux).lower()\n",
        "  str_aux=re.sub('\\s+', ' ',str_aux).strip()\n",
        "  return str_aux\n",
        "\n",
        "reviews['text']=reviews['text'].apply(lambda d: remove_special(d))\n"
      ],
      "execution_count": null,
      "outputs": []
    },
    {
      "cell_type": "code",
      "metadata": {
        "colab": {
          "base_uri": "https://localhost:8080/"
        },
        "id": "J5yWt_agEjoV",
        "outputId": "1bb29390-f3d5-4a2b-c20e-dce4d3f48942"
      },
      "source": [
        "print( \"Majority to minority class relation : \" , np.round(sum(reviews.label==0)/sum(reviews.label==1),1))"
      ],
      "execution_count": null,
      "outputs": [
        {
          "output_type": "stream",
          "name": "stdout",
          "text": [
            "Majority to minority class relation :  2.1\n"
          ]
        }
      ]
    },
    {
      "cell_type": "markdown",
      "metadata": {
        "id": "8ba89CUPi8f_"
      },
      "source": [
        "\n",
        "# Approach No.1\n",
        "\n",
        "Using Pre trained embeddings Glove as base embeddings to build a classifier"
      ]
    },
    {
      "cell_type": "code",
      "metadata": {
        "id": "xBkYZibMi70P"
      },
      "source": [
        "\n",
        "from tensorflow.keras.layers.experimental.preprocessing import TextVectorization \n",
        "\n",
        "##lets consider 1000 words at max and every review's representation up to 200 words\n",
        "\n",
        "vectorizer = TextVectorization(max_tokens=1000, output_sequence_length=200)\n",
        "text_vect = tf.data.Dataset.from_tensor_slices(reviews.text)\n",
        "vectorizer.adapt(text_vect)\n",
        "\n",
        "\n",
        "\n",
        "##get a dictionary for every word in the vocabulary and it's integer value \n",
        "vocab = vectorizer.get_vocabulary()\n",
        "word_index = dict(zip(vocab, range(len(vocab))))\n",
        "\n"
      ],
      "execution_count": null,
      "outputs": []
    },
    {
      "cell_type": "code",
      "metadata": {
        "id": "MMOPmf9JsCFd"
      },
      "source": [
        "##take randomly 10 % of negative cases out to balance dataset\n",
        "neg_rev=reviews[reviews['label']==0].sample(frac=0.9)\n",
        "pos_rev=reviews[reviews['label']==1]\n",
        "reviews=pd.concat([neg_rev,pos_rev]).sample(frac=1)\n"
      ],
      "execution_count": null,
      "outputs": []
    },
    {
      "cell_type": "code",
      "metadata": {
        "colab": {
          "base_uri": "https://localhost:8080/"
        },
        "id": "6-NBfrQnv9N1",
        "outputId": "e49de28b-57b8-4957-8d93-a95b649a702f"
      },
      "source": [
        "##apply vectorizer and tokenization to every review text and divide data on train-test 80%-20%\n",
        "\n",
        "from sklearn.model_selection import train_test_split\n",
        "\n",
        "reviews_tk = vectorizer(np.array([[k] for k in reviews.text])).numpy()\n",
        "labels=reviews.label.values.astype('int64')\n",
        "\n",
        "X_train,X_test,Y_train,Y_test = train_test_split(reviews_tk,reviews.label.values, test_size=0.2, random_state=123,stratify=labels)\n",
        "print(\"Reviews for training: {} \\nReviews for testing: {}\".format(X_train.shape[0],X_test.shape[0]))"
      ],
      "execution_count": null,
      "outputs": [
        {
          "output_type": "stream",
          "name": "stdout",
          "text": [
            "Reviews for training: 30186 \n",
            "Reviews for testing: 7547\n"
          ]
        }
      ]
    },
    {
      "cell_type": "markdown",
      "metadata": {
        "id": "pO5vkPxj0DcM"
      },
      "source": [
        "## Using Stanford GloVe Embeddings \n"
      ]
    },
    {
      "cell_type": "code",
      "metadata": {
        "colab": {
          "base_uri": "https://localhost:8080/"
        },
        "id": "T6zV9elkz250",
        "outputId": "5b8dc1d9-4519-4b22-999c-51ad58b0c954"
      },
      "source": [
        "### get GloVe embeddings \n",
        "%cd /content\n",
        "!wget http://nlp.stanford.edu/data/glove.6B.zip\n",
        "!unzip -q glove.6B.zip"
      ],
      "execution_count": null,
      "outputs": [
        {
          "output_type": "stream",
          "name": "stdout",
          "text": [
            "/content\n",
            "--2021-09-08 13:43:59--  http://nlp.stanford.edu/data/glove.6B.zip\n",
            "Resolving nlp.stanford.edu (nlp.stanford.edu)... 171.64.67.140\n",
            "Connecting to nlp.stanford.edu (nlp.stanford.edu)|171.64.67.140|:80... connected.\n",
            "HTTP request sent, awaiting response... 302 Found\n",
            "Location: https://nlp.stanford.edu/data/glove.6B.zip [following]\n",
            "--2021-09-08 13:43:59--  https://nlp.stanford.edu/data/glove.6B.zip\n",
            "Connecting to nlp.stanford.edu (nlp.stanford.edu)|171.64.67.140|:443... connected.\n",
            "HTTP request sent, awaiting response... 301 Moved Permanently\n",
            "Location: http://downloads.cs.stanford.edu/nlp/data/glove.6B.zip [following]\n",
            "--2021-09-08 13:44:00--  http://downloads.cs.stanford.edu/nlp/data/glove.6B.zip\n",
            "Resolving downloads.cs.stanford.edu (downloads.cs.stanford.edu)... 171.64.64.22\n",
            "Connecting to downloads.cs.stanford.edu (downloads.cs.stanford.edu)|171.64.64.22|:80... connected.\n",
            "HTTP request sent, awaiting response... 200 OK\n",
            "Length: 862182613 (822M) [application/zip]\n",
            "Saving to: ‘glove.6B.zip’\n",
            "\n",
            "glove.6B.zip        100%[===================>] 822.24M  4.98MB/s    in 2m 41s  \n",
            "\n",
            "2021-09-08 13:46:40 (5.12 MB/s) - ‘glove.6B.zip’ saved [862182613/862182613]\n",
            "\n"
          ]
        }
      ]
    },
    {
      "cell_type": "code",
      "metadata": {
        "colab": {
          "base_uri": "https://localhost:8080/"
        },
        "id": "gONk6CJq3CkP",
        "outputId": "aee8a9e6-5856-4ff3-c310-63c346bde5ab"
      },
      "source": [
        "##get word embeddings into a matrix\n",
        "##glove has an embeddings vector of size 100 for every word\n",
        "glove_path = \"/content/glove.6B.100d.txt\"\n",
        "\n",
        "embeddings_index = {}\n",
        "with open(glove_path) as f:\n",
        "    for line in f:\n",
        "        word, coefs = line.split(maxsplit=1)\n",
        "        coefs = np.fromstring(coefs, \"f\", sep=\" \")\n",
        "        embeddings_index[word] = coefs\n",
        "\n",
        "\n",
        "num_tokens = len(vocab) + 2\n",
        "embedding_dim = coefs.shape[0] ## embeddings size\n",
        "words_found = 0\n",
        "\n",
        "# Prepare embedding matrix\n",
        "embedding_matrix = np.zeros((num_tokens, embedding_dim))\n",
        "for word, i in word_index.items():\n",
        "    embedding_vector = embeddings_index.get(word)\n",
        "    if embedding_vector is not None:\n",
        "        # Words not found in embedding index will be all-zeros.\n",
        "        # This includes the representation for \"padding\" and \"OOV\"\n",
        "        embedding_matrix[i] = embedding_vector\n",
        "        words_found+= 1\n",
        "    \n",
        "print(\"{:.2%} words of vocab in GloVe embeddings\".format(words_found/len(vocab)))\n"
      ],
      "execution_count": null,
      "outputs": [
        {
          "output_type": "stream",
          "name": "stdout",
          "text": [
            "99.80% words of vocab in GloVe embeddings\n"
          ]
        }
      ]
    },
    {
      "cell_type": "markdown",
      "metadata": {
        "id": "QlA19iNX3cw3"
      },
      "source": [
        "## Define & train the model\n",
        "\n",
        "We'll be using Keras functional API to train a classifier. Callbacks to avoid overfitting are also provided in the process"
      ]
    },
    {
      "cell_type": "code",
      "metadata": {
        "id": "tsYqbQ0EIaBG"
      },
      "source": [
        "Y_train=Y_train.astype('int64')\n",
        "Y_test=Y_test.astype('int64')"
      ],
      "execution_count": null,
      "outputs": []
    },
    {
      "cell_type": "code",
      "metadata": {
        "colab": {
          "base_uri": "https://localhost:8080/"
        },
        "id": "qAW_s5G8ANAZ",
        "outputId": "d3510dc6-7747-42ee-9950-0a798421298a"
      },
      "source": [
        "##define class weights for imbalanced data\n",
        "n_classes=np.unique(Y_train).shape[0]\n",
        "neg_weight = (1 / sum(Y_train==0)) * (Y_train.shape[0] / n_classes)  ##according to TF, scale by number of classes\n",
        "pos_weight = (1 / sum(Y_train==1)) * (Y_train.shape[0] / n_classes)\n",
        "\n",
        "class_weight = {0: neg_weight, 1: pos_weight}\n",
        "print(class_weight)"
      ],
      "execution_count": null,
      "outputs": [
        {
          "output_type": "stream",
          "name": "stdout",
          "text": [
            "{0: 0.741780115004669, 1: 1.5339973574550259}\n"
          ]
        }
      ]
    },
    {
      "cell_type": "code",
      "metadata": {
        "colab": {
          "base_uri": "https://localhost:8080/"
        },
        "id": "lUoLHE5p3bmS",
        "outputId": "1a4b9211-d429-4871-dc3f-678f56c451a4"
      },
      "source": [
        "from tensorflow.keras.layers import Embedding,Input,Dense,Flatten,MaxPooling1D,Conv1D,Dropout,GlobalMaxPool1D,GlobalMaxPooling1D,BatchNormalization,AveragePooling1D\n",
        "from tensorflow.keras.models import Model\n",
        "from tensorflow.keras.optimizers import Adam\n",
        "from tensorflow.keras.regularizers import l1,l2\n",
        "\n",
        "\n",
        "# embedding_layer = Embedding(\n",
        "#     num_tokens,\n",
        "#     embedding_dim,\n",
        "\n",
        "# )\n",
        "\n",
        "embedding_layer = Embedding(\n",
        "    num_tokens,\n",
        "    embedding_dim,\n",
        "    embeddings_initializer=tf.keras.initializers.Constant(embedding_matrix),\n",
        "    trainable=False, ##avoid training pre-defined embeddings\n",
        ")\n",
        "\n",
        "\n",
        "\n",
        "int_sequences_input =Input(shape=(None,), dtype=\"int64\")\n",
        "embedded_sequences = embedding_layer(int_sequences_input)\n",
        "x = Conv1D(64, 5, activation=\"linear\",kernel_regularizer=l2(0.005))(embedded_sequences) #regularization L2 to perform weight decay, helps avoid overfitting ( docs suggest values ranging from 0 to 0.1)\n",
        "x = Conv1D(32, 5, activation=\"relu\",kernel_regularizer=l2(0.001))(embedded_sequences)\n",
        "x = MaxPooling1D(5)(x)\n",
        "x= GlobalMaxPool1D()(x)\n",
        "x = Dropout(0.3)(x)\n",
        "x = Dense(32, activation=\"relu\",kernel_regularizer=l2(0.005))(x)\n",
        "x = Dropout(0.3)(x)\n",
        "x=Dense(1, activation=\"sigmoid\")(x)\n",
        "\n",
        "model=Model(int_sequences_input,x,name=\"predictor_polarity\")\n",
        "\n",
        "\n",
        "model.summary()"
      ],
      "execution_count": null,
      "outputs": [
        {
          "output_type": "stream",
          "name": "stdout",
          "text": [
            "Model: \"predictor_polarity\"\n",
            "_________________________________________________________________\n",
            "Layer (type)                 Output Shape              Param #   \n",
            "=================================================================\n",
            "input_1 (InputLayer)         [(None, None)]            0         \n",
            "_________________________________________________________________\n",
            "embedding (Embedding)        (None, None, 100)         100200    \n",
            "_________________________________________________________________\n",
            "conv1d_1 (Conv1D)            (None, None, 32)          16032     \n",
            "_________________________________________________________________\n",
            "max_pooling1d (MaxPooling1D) (None, None, 32)          0         \n",
            "_________________________________________________________________\n",
            "global_max_pooling1d (Global (None, 32)                0         \n",
            "_________________________________________________________________\n",
            "dropout (Dropout)            (None, 32)                0         \n",
            "_________________________________________________________________\n",
            "dense (Dense)                (None, 32)                1056      \n",
            "_________________________________________________________________\n",
            "dropout_1 (Dropout)          (None, 32)                0         \n",
            "_________________________________________________________________\n",
            "dense_1 (Dense)              (None, 1)                 33        \n",
            "=================================================================\n",
            "Total params: 117,321\n",
            "Trainable params: 17,121\n",
            "Non-trainable params: 100,200\n",
            "_________________________________________________________________\n"
          ]
        }
      ]
    },
    {
      "cell_type": "code",
      "metadata": {
        "colab": {
          "base_uri": "https://localhost:8080/"
        },
        "id": "DF2VBWwS4FWn",
        "outputId": "365bfadc-37e1-4875-f7d7-478f1c842354"
      },
      "source": [
        "##lets define a callback to avoid overtraining when validation error stucks at some point\n",
        "patience_call=5\n",
        "metric=tf.keras.metrics.AUC()\n",
        "\n",
        "cb_f = tf.keras.callbacks.EarlyStopping(monitor='val_loss', patience=patience_call,restore_best_weights=True) #set the best weights found at scoring on validation set\n",
        "opt = Adam(learning_rate=1e-4)\n",
        "model.compile(\n",
        "    loss=\"binary_crossentropy\", optimizer=opt, metrics=[metric]\n",
        ")\n",
        "check = tf.keras.callbacks.ModelCheckpoint('/content',\n",
        "                                           monitor='val_loss', \n",
        "                                           save_best_only=True,\n",
        "                                           mode='max',\n",
        "                                           patience=patience_call)\n",
        "\n",
        "history=model.fit(x=X_train,y=Y_train, batch_size=50, epochs=50,callbacks=[cb_f,check],validation_data=(X_test,Y_test),class_weight=class_weight)"
      ],
      "execution_count": null,
      "outputs": [
        {
          "output_type": "stream",
          "name": "stdout",
          "text": [
            "Epoch 1/50\n",
            "604/604 [==============================] - 24s 38ms/step - loss: 0.8383 - auc_16: 0.6686 - val_loss: 0.7387 - val_auc_16: 0.8239\n",
            "INFO:tensorflow:Assets written to: /content/assets\n"
          ]
        },
        {
          "output_type": "stream",
          "name": "stderr",
          "text": [
            "INFO:tensorflow:Assets written to: /content/assets\n"
          ]
        },
        {
          "output_type": "stream",
          "name": "stdout",
          "text": [
            "Epoch 2/50\n",
            "604/604 [==============================] - 23s 37ms/step - loss: 0.6954 - auc_16: 0.7917 - val_loss: 0.6467 - val_auc_16: 0.8323\n",
            "Epoch 3/50\n",
            "604/604 [==============================] - 23s 37ms/step - loss: 0.6337 - auc_16: 0.8161 - val_loss: 0.6038 - val_auc_16: 0.8373\n",
            "Epoch 4/50\n",
            "604/604 [==============================] - 23s 37ms/step - loss: 0.5911 - auc_16: 0.8318 - val_loss: 0.5581 - val_auc_16: 0.8411\n",
            "Epoch 5/50\n",
            "604/604 [==============================] - 23s 38ms/step - loss: 0.5622 - auc_16: 0.8389 - val_loss: 0.5261 - val_auc_16: 0.8433\n",
            "Epoch 6/50\n",
            "604/604 [==============================] - 23s 38ms/step - loss: 0.5358 - auc_16: 0.8471 - val_loss: 0.5045 - val_auc_16: 0.8470\n",
            "Epoch 7/50\n",
            "604/604 [==============================] - 23s 38ms/step - loss: 0.5158 - auc_16: 0.8499 - val_loss: 0.4887 - val_auc_16: 0.8497\n",
            "Epoch 8/50\n",
            "604/604 [==============================] - 23s 38ms/step - loss: 0.4972 - auc_16: 0.8559 - val_loss: 0.4668 - val_auc_16: 0.8517\n",
            "Epoch 9/50\n",
            "604/604 [==============================] - 23s 38ms/step - loss: 0.4826 - auc_16: 0.8601 - val_loss: 0.4525 - val_auc_16: 0.8538\n",
            "Epoch 10/50\n",
            "604/604 [==============================] - 23s 38ms/step - loss: 0.4712 - auc_16: 0.8627 - val_loss: 0.4511 - val_auc_16: 0.8555\n",
            "Epoch 11/50\n",
            "604/604 [==============================] - 23s 37ms/step - loss: 0.4604 - auc_16: 0.8666 - val_loss: 0.4281 - val_auc_16: 0.8573\n",
            "Epoch 12/50\n",
            "604/604 [==============================] - 23s 38ms/step - loss: 0.4529 - auc_16: 0.8680 - val_loss: 0.4229 - val_auc_16: 0.8590\n",
            "Epoch 13/50\n",
            "604/604 [==============================] - 23s 37ms/step - loss: 0.4443 - auc_16: 0.8720 - val_loss: 0.4158 - val_auc_16: 0.8603\n",
            "Epoch 14/50\n",
            "604/604 [==============================] - 23s 37ms/step - loss: 0.4355 - auc_16: 0.8752 - val_loss: 0.4220 - val_auc_16: 0.8613\n",
            "Epoch 15/50\n",
            "604/604 [==============================] - 23s 37ms/step - loss: 0.4282 - auc_16: 0.8788 - val_loss: 0.4057 - val_auc_16: 0.8617\n",
            "Epoch 16/50\n",
            "604/604 [==============================] - 23s 37ms/step - loss: 0.4235 - auc_16: 0.8811 - val_loss: 0.4052 - val_auc_16: 0.8625\n",
            "Epoch 17/50\n",
            "604/604 [==============================] - 23s 38ms/step - loss: 0.4198 - auc_16: 0.8832 - val_loss: 0.4125 - val_auc_16: 0.8623\n",
            "Epoch 18/50\n",
            "604/604 [==============================] - 23s 38ms/step - loss: 0.4159 - auc_16: 0.8824 - val_loss: 0.4096 - val_auc_16: 0.8635\n",
            "Epoch 19/50\n",
            "604/604 [==============================] - 23s 37ms/step - loss: 0.4105 - auc_16: 0.8852 - val_loss: 0.4060 - val_auc_16: 0.8639\n",
            "Epoch 20/50\n",
            "604/604 [==============================] - 23s 37ms/step - loss: 0.4069 - auc_16: 0.8874 - val_loss: 0.3905 - val_auc_16: 0.8657\n",
            "Epoch 21/50\n",
            "604/604 [==============================] - 23s 38ms/step - loss: 0.4018 - auc_16: 0.8912 - val_loss: 0.3920 - val_auc_16: 0.8657\n",
            "Epoch 22/50\n",
            "604/604 [==============================] - 23s 38ms/step - loss: 0.3991 - auc_16: 0.8920 - val_loss: 0.3895 - val_auc_16: 0.8662\n",
            "Epoch 23/50\n",
            "604/604 [==============================] - 23s 37ms/step - loss: 0.3974 - auc_16: 0.8924 - val_loss: 0.3908 - val_auc_16: 0.8663\n",
            "Epoch 24/50\n",
            "604/604 [==============================] - 23s 37ms/step - loss: 0.3934 - auc_16: 0.8953 - val_loss: 0.3852 - val_auc_16: 0.8671\n",
            "Epoch 25/50\n",
            "604/604 [==============================] - 23s 37ms/step - loss: 0.3912 - auc_16: 0.8973 - val_loss: 0.3805 - val_auc_16: 0.8667\n",
            "Epoch 26/50\n",
            "604/604 [==============================] - 23s 38ms/step - loss: 0.3866 - auc_16: 0.9003 - val_loss: 0.3933 - val_auc_16: 0.8665\n",
            "Epoch 27/50\n",
            "604/604 [==============================] - 23s 38ms/step - loss: 0.3874 - auc_16: 0.8993 - val_loss: 0.3877 - val_auc_16: 0.8670\n",
            "Epoch 28/50\n",
            "604/604 [==============================] - 23s 38ms/step - loss: 0.3825 - auc_16: 0.9025 - val_loss: 0.3775 - val_auc_16: 0.8686\n",
            "Epoch 29/50\n",
            "604/604 [==============================] - 23s 38ms/step - loss: 0.3827 - auc_16: 0.9016 - val_loss: 0.3882 - val_auc_16: 0.8677\n",
            "Epoch 30/50\n",
            "604/604 [==============================] - 23s 38ms/step - loss: 0.3789 - auc_16: 0.9040 - val_loss: 0.3833 - val_auc_16: 0.8685\n",
            "Epoch 31/50\n",
            "604/604 [==============================] - 23s 38ms/step - loss: 0.3760 - auc_16: 0.9064 - val_loss: 0.3805 - val_auc_16: 0.8683\n",
            "Epoch 32/50\n",
            "604/604 [==============================] - 23s 38ms/step - loss: 0.3737 - auc_16: 0.9089 - val_loss: 0.3793 - val_auc_16: 0.8685\n",
            "Epoch 33/50\n",
            "604/604 [==============================] - 23s 38ms/step - loss: 0.3730 - auc_16: 0.9084 - val_loss: 0.3945 - val_auc_16: 0.8673\n"
          ]
        }
      ]
    },
    {
      "cell_type": "markdown",
      "metadata": {
        "id": "8xltilF8D-1v"
      },
      "source": [
        "## Model Performance during training and final metrics on training and test data\n",
        "\n",
        "After a couple trials, fine-tunning our model, we have found an acceptable combination to predict the polarity of a review. As we can see in the following graph, training and validation loss did not differ significantly during the training process. Tensorflow loads the best weights found using the roc-auc metric."
      ]
    },
    {
      "cell_type": "code",
      "metadata": {
        "colab": {
          "base_uri": "https://localhost:8080/",
          "height": 457
        },
        "id": "DcBinyDhCN7b",
        "outputId": "133b6496-31ae-41d5-f286-923c89f1baa9"
      },
      "source": [
        "\n",
        "\n",
        "##Lets see the training process metrics\n",
        "def plot_results(history):\n",
        "  f,ax=plt.subplots(figsize=(5,5),dpi=100)\n",
        "  epochs=history.epoch\n",
        "  metric_tr=history.history.get('loss')\n",
        "  metric_val=history.history.get('val_loss')\n",
        "  plt.semilogy(epochs, metric_tr, color='orange', label='Training Loss',linestyle='--')\n",
        "  plt.semilogy(epochs, metric_val, color='black', label='Validation Loss',linestyle='--')\n",
        "  ax.set_xlabel(\"Epoch\")\n",
        "  ax.set_ylabel(\"Loss\")\n",
        "  plt.legend(loc=\"upper left\")\n",
        "plot_results(history=history)  "
      ],
      "execution_count": null,
      "outputs": [
        {
          "output_type": "display_data",
          "data": {
            "image/png": "[encoded data removed]",
            "text/plain": [
              "<Figure size 500x500 with 1 Axes>"
            ]
          },
          "metadata": {
            "needs_background": "light"
          }
        }
      ]
    },
    {
      "cell_type": "code",
      "metadata": {
        "id": "8pIZ0cQ1D8c9"
      },
      "source": [
        "##Function to compute metrics \n",
        "from sklearn.metrics import cohen_kappa_score,accuracy_score,f1_score,precision_score,recall_score,make_scorer\n",
        "def metrics(real,pred):\n",
        "  kappa=cohen_kappa_score(real,pred)\n",
        "  acc=accuracy_score(real,pred)\n",
        "  f1=f1_score(real,pred)\n",
        "  prec=precision_score(real,pred)\n",
        "  recall=recall_score(real,pred)\n",
        "\n",
        "  print (f\" Accuracy:{acc:.4f} \\n Precision: {prec:.4f} \\n Recall: {recall:.4f} \\n Kappa: {kappa:.4f} \\n F1-Score: {f1:.4f} \")\n"
      ],
      "execution_count": null,
      "outputs": []
    },
    {
      "cell_type": "code",
      "metadata": {
        "colab": {
          "base_uri": "https://localhost:8080/"
        },
        "id": "YmGuM4AbVJ2w",
        "outputId": "937fdf11-ca2b-4231-9fba-12ac6144567a"
      },
      "source": [
        "##check performance on validation(test) set\n",
        "y_pred=model.predict(X_train)\n",
        "y_pred_test=model.predict(X_test)\n",
        "\n",
        "print(\"=\"*5+\"TRAINING\"+\"=\"*5)\n",
        "metrics(Y_train,np.round(y_pred))\n",
        "print(\"=\"*5+\"TESTING\"+\"=\"*5)\n",
        "metrics(Y_test,np.round(y_pred_test))"
      ],
      "execution_count": null,
      "outputs": [
        {
          "output_type": "stream",
          "name": "stdout",
          "text": [
            "=====TRAINING=====\n",
            " Accuracy:0.8989 \n",
            " Precision: 0.9377 \n",
            " Recall: 0.7390 \n",
            " Kappa: 0.7567 \n",
            " F1-Score: 0.8266 \n",
            "=====TESTING=====\n",
            " Accuracy:0.8735 \n",
            " Precision: 0.8885 \n",
            " Recall: 0.6996 \n",
            " Kappa: 0.6953 \n",
            " F1-Score: 0.7828 \n"
          ]
        }
      ]
    },
    {
      "cell_type": "markdown",
      "metadata": {
        "id": "Aa1GKUDVooeK"
      },
      "source": [
        "## Predict on new data\n",
        "\n",
        "lets create and end-to-end pipeline to predict the polarity out of a raw text"
      ]
    },
    {
      "cell_type": "code",
      "metadata": {
        "colab": {
          "base_uri": "https://localhost:8080/"
        },
        "id": "y8Wm3P-Aonvk",
        "outputId": "56a99722-77b1-427e-a76a-a06cbf5a4387"
      },
      "source": [
        "str_test=\"I dont like this movie\"\n",
        "\n",
        "def predict_str_data(new_text):\n",
        "  new_text=remove_special(new_text)\n",
        "  vect=vectorizer(np.array([new_text])).numpy()\n",
        "  score=model.predict(vect)[0]\n",
        "  return (\n",
        "      {'text':new_text,'score':score[0],'label': 'pos' if score>0.5 else 'neg'}\n",
        "      )\n",
        "\n",
        "predict_str_data(str_test)"
      ],
      "execution_count": null,
      "outputs": [
        {
          "output_type": "execute_result",
          "data": {
            "text/plain": [
              "{'label': 'neg', 'score': 0.15315273, 'text': 'i dont like this movie'}"
            ]
          },
          "metadata": {},
          "execution_count": 333
        }
      ]
    },
    {
      "cell_type": "code",
      "metadata": {
        "id": "h8-7pZ38qm9d"
      },
      "source": [
        "###end to end model\n",
        "from keras.models import load_model\n",
        "model=load_model('sentiment_cnn.h5')"
      ],
      "execution_count": null,
      "outputs": []
    },
    {
      "cell_type": "code",
      "metadata": {
        "colab": {
          "base_uri": "https://localhost:8080/"
        },
        "id": "kVyvvmoVrOUM",
        "outputId": "a63f1278-4348-4e1c-cb2c-c47b4b97b760"
      },
      "source": [
        "model.summary()"
      ],
      "execution_count": null,
      "outputs": [
        {
          "output_type": "stream",
          "name": "stdout",
          "text": [
            "Model: \"predictor_polarity\"\n",
            "_________________________________________________________________\n",
            "Layer (type)                 Output Shape              Param #   \n",
            "=================================================================\n",
            "input_25 (InputLayer)        [(None, None)]            0         \n",
            "_________________________________________________________________\n",
            "embedding_24 (Embedding)     (None, None, 100)         100200    \n",
            "_________________________________________________________________\n",
            "conv1d_31 (Conv1D)           (None, None, 32)          16032     \n",
            "_________________________________________________________________\n",
            "max_pooling1d_13 (MaxPooling (None, None, 32)          0         \n",
            "_________________________________________________________________\n",
            "global_max_pooling1d_20 (Glo (None, 32)                0         \n",
            "_________________________________________________________________\n",
            "dropout_29 (Dropout)         (None, 32)                0         \n",
            "_________________________________________________________________\n",
            "dense_41 (Dense)             (None, 32)                1056      \n",
            "_________________________________________________________________\n",
            "dropout_30 (Dropout)         (None, 32)                0         \n",
            "_________________________________________________________________\n",
            "dense_42 (Dense)             (None, 1)                 33        \n",
            "=================================================================\n",
            "Total params: 117,321\n",
            "Trainable params: 17,121\n",
            "Non-trainable params: 100,200\n",
            "_________________________________________________________________\n"
          ]
        }
      ]
    },
    {
      "cell_type": "markdown",
      "metadata": {
        "id": "kGlrir55RBXy"
      },
      "source": [
        "## Further Work\n",
        "\n",
        "Fit the model using all available data, once we've defined all the parameters for every layer in our CNN model. For now lets just create an end to end model. (text to score)"
      ]
    },
    {
      "cell_type": "code",
      "metadata": {
        "id": "QFAOe0c3qlJ3"
      },
      "source": [
        "text_input =Input(shape=(1,),dtype=tf.string)\n",
        "x=vectorizer(text_input)\n",
        "x=model(x)\n",
        "model2=Model(text_input,x,name=\"end-to-end-sentiment\")\n"
      ],
      "execution_count": null,
      "outputs": []
    },
    {
      "cell_type": "code",
      "metadata": {
        "colab": {
          "base_uri": "https://localhost:8080/"
        },
        "id": "WTDJYSTmx0Eg",
        "outputId": "80d9cb36-6e18-42e4-9313-2019497ad490"
      },
      "source": [
        "##lets use previous callbacks and metrics\n",
        "patience_call=5\n",
        "metric=tf.keras.metrics.AUC()\n",
        "y_glob=reviews.label.values.astype('int64')\n",
        "cb_f = tf.keras.callbacks.EarlyStopping(monitor='loss', patience=patience_call,restore_best_weights=True) #set the best weights found at scoring on validation set\n",
        "opt = Adam(learning_rate=1e-4)\n",
        "model2.compile(\n",
        "    loss=\"binary_crossentropy\", optimizer=opt, metrics=[metric]\n",
        ")\n",
        "check = tf.keras.callbacks.ModelCheckpoint('/content',\n",
        "                                           monitor='loss', \n",
        "                                           save_best_only=True,\n",
        "                                           mode='max',\n",
        "                                           patience=patience_call)\n",
        "\n",
        "history2=model2.fit(x=reviews.text,y=y_glob, batch_size=50, epochs=30,callbacks=[cb_f,check],class_weight=class_weight)"
      ],
      "execution_count": 66,
      "outputs": [
        {
          "output_type": "stream",
          "name": "stdout",
          "text": [
            "Epoch 1/30\n",
            "755/755 [==============================] - 49s 64ms/step - loss: 0.3892 - auc_5: 0.8954\n",
            "INFO:tensorflow:Assets written to: /content/assets\n",
            "Epoch 2/30\n",
            "755/755 [==============================] - 47s 62ms/step - loss: 0.3877 - auc_5: 0.8963\n",
            "Epoch 3/30\n",
            "755/755 [==============================] - 45s 60ms/step - loss: 0.3845 - auc_5: 0.8982\n",
            "Epoch 4/30\n",
            "755/755 [==============================] - 45s 60ms/step - loss: 0.3843 - auc_5: 0.8985\n",
            "Epoch 5/30\n",
            "755/755 [==============================] - 46s 61ms/step - loss: 0.3808 - auc_5: 0.9017\n",
            "Epoch 6/30\n",
            "755/755 [==============================] - 47s 62ms/step - loss: 0.3780 - auc_5: 0.9022\n",
            "Epoch 7/30\n",
            "755/755 [==============================] - 46s 60ms/step - loss: 0.3782 - auc_5: 0.9020\n",
            "Epoch 8/30\n",
            "755/755 [==============================] - 46s 61ms/step - loss: 0.3752 - auc_5: 0.9037\n",
            "Epoch 9/30\n",
            "755/755 [==============================] - 46s 61ms/step - loss: 0.3739 - auc_5: 0.9047\n",
            "Epoch 10/30\n",
            "755/755 [==============================] - 46s 61ms/step - loss: 0.3739 - auc_5: 0.9053\n",
            "Epoch 11/30\n",
            "755/755 [==============================] - 46s 61ms/step - loss: 0.3705 - auc_5: 0.9073\n",
            "Epoch 12/30\n",
            "755/755 [==============================] - 47s 62ms/step - loss: 0.3701 - auc_5: 0.9067\n",
            "Epoch 13/30\n",
            "755/755 [==============================] - 46s 61ms/step - loss: 0.3691 - auc_5: 0.9075\n",
            "Epoch 14/30\n",
            "755/755 [==============================] - 46s 61ms/step - loss: 0.3668 - auc_5: 0.9105\n",
            "Epoch 15/30\n",
            "755/755 [==============================] - 48s 63ms/step - loss: 0.3659 - auc_5: 0.9108\n",
            "Epoch 16/30\n",
            "755/755 [==============================] - 48s 64ms/step - loss: 0.3634 - auc_5: 0.9129\n",
            "Epoch 17/30\n",
            "755/755 [==============================] - 48s 64ms/step - loss: 0.3618 - auc_5: 0.9133\n",
            "Epoch 18/30\n",
            "755/755 [==============================] - 47s 63ms/step - loss: 0.3601 - auc_5: 0.9139\n",
            "Epoch 19/30\n",
            "755/755 [==============================] - 47s 62ms/step - loss: 0.3611 - auc_5: 0.9128\n",
            "Epoch 20/30\n",
            "755/755 [==============================] - 48s 63ms/step - loss: 0.3583 - auc_5: 0.9167\n",
            "Epoch 21/30\n",
            "755/755 [==============================] - 47s 63ms/step - loss: 0.3591 - auc_5: 0.9149\n",
            "Epoch 22/30\n",
            "755/755 [==============================] - 48s 63ms/step - loss: 0.3560 - auc_5: 0.9179\n",
            "Epoch 23/30\n",
            "755/755 [==============================] - 48s 63ms/step - loss: 0.3563 - auc_5: 0.9168\n",
            "Epoch 24/30\n",
            "755/755 [==============================] - 47s 63ms/step - loss: 0.3542 - auc_5: 0.9191\n",
            "Epoch 25/30\n",
            "755/755 [==============================] - 48s 63ms/step - loss: 0.3527 - auc_5: 0.9193\n",
            "Epoch 26/30\n",
            "755/755 [==============================] - 48s 63ms/step - loss: 0.3501 - auc_5: 0.9213\n",
            "Epoch 27/30\n",
            "755/755 [==============================] - 47s 63ms/step - loss: 0.3485 - auc_5: 0.9221\n",
            "Epoch 28/30\n",
            "755/755 [==============================] - 47s 62ms/step - loss: 0.3501 - auc_5: 0.9220\n",
            "Epoch 29/30\n",
            "755/755 [==============================] - 46s 61ms/step - loss: 0.3476 - auc_5: 0.9235\n",
            "Epoch 30/30\n",
            "755/755 [==============================] - 47s 62ms/step - loss: 0.3477 - auc_5: 0.9231\n"
          ]
        }
      ]
    },
    {
      "cell_type": "code",
      "metadata": {
        "colab": {
          "base_uri": "https://localhost:8080/"
        },
        "id": "VoFfVt9Rtgcl",
        "outputId": "3dd9229f-ef68-4673-8316-cb1305d9eca3"
      },
      "source": [
        "model2.predict([\"i dont like this movie\"])"
      ],
      "execution_count": 67,
      "outputs": [
        {
          "output_type": "execute_result",
          "data": {
            "text/plain": [
              "array([[0.16742826]], dtype=float32)"
            ]
          },
          "metadata": {},
          "execution_count": 67
        }
      ]
    },
    {
      "cell_type": "markdown",
      "metadata": {
        "id": "e2Leyb8SOOGh"
      },
      "source": [
        "## Save Model for later usage/testing"
      ]
    },
    {
      "cell_type": "code",
      "metadata": {
        "colab": {
          "base_uri": "https://localhost:8080/"
        },
        "id": "L7OozT9NvURK",
        "outputId": "b4e45c54-e859-4e89-d0d2-1db6b1097d6d"
      },
      "source": [
        "model2.save('/content/models/sentiment_cnn_new',save_format='tf')"
      ],
      "execution_count": 70,
      "outputs": [
        {
          "output_type": "stream",
          "name": "stdout",
          "text": [
            "INFO:tensorflow:Assets written to: /content/models/sentiment_cnn_new/assets\n"
          ]
        }
      ]
    }
  ]
}